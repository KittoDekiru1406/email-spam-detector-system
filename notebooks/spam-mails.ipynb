{
 "cells": [
  {
   "cell_type": "code",
   "execution_count": 1,
   "id": "768068c9",
   "metadata": {
    "execution": {
     "iopub.execute_input": "2024-12-14T12:34:53.717636Z",
     "iopub.status.busy": "2024-12-14T12:34:53.717234Z",
     "iopub.status.idle": "2024-12-14T12:34:58.109243Z",
     "shell.execute_reply": "2024-12-14T12:34:58.107234Z"
    },
    "papermill": {
     "duration": 4.402424,
     "end_time": "2024-12-14T12:34:58.112749",
     "exception": false,
     "start_time": "2024-12-14T12:34:53.710325",
     "status": "completed"
    },
    "tags": []
   },
   "outputs": [
    {
     "name": "stderr",
     "output_type": "stream",
     "text": [
      "[nltk_data] Downloading package stopwords to /home/dekiru/nltk_data...\n",
      "[nltk_data]   Package stopwords is already up-to-date!\n"
     ]
    },
    {
     "data": {
      "text/plain": [
       "True"
      ]
     },
     "execution_count": 1,
     "metadata": {},
     "output_type": "execute_result"
    }
   ],
   "source": [
    "# Import necessary libraries\n",
    "import pandas as pd\n",
    "import numpy as np\n",
    "import matplotlib.pyplot as plt\n",
    "import seaborn as sns\n",
    "import string\n",
    "import pickle\n",
    "import os\n",
    "from collections import Counter\n",
    "\n",
    "from sklearn.model_selection import train_test_split\n",
    "from sklearn.feature_extraction.text import CountVectorizer\n",
    "from sklearn.ensemble import RandomForestClassifier\n",
    "from sklearn.ensemble import RandomForestClassifier as RFR\n",
    "from sklearn.linear_model import LogisticRegression\n",
    "from sklearn.ensemble import RandomForestClassifier\n",
    "from sklearn.svm import SVC\n",
    "from sklearn.neighbors import KNeighborsClassifier\n",
    "from sklearn.naive_bayes import MultinomialNB\n",
    "from xgboost import XGBClassifier\n",
    "from sklearn.metrics import accuracy_score, classification_report\n",
    "from sklearn.metrics import accuracy_score, confusion_matrix, precision_score, recall_score, f1_score\n",
    "\n",
    "import nltk\n",
    "from nltk.corpus import stopwords\n",
    "from nltk.stem.porter import PorterStemmer\n",
    "nltk.download('stopwords')"
   ]
  },
  {
   "cell_type": "markdown",
   "id": "f8b7c9af",
   "metadata": {
    "papermill": {
     "duration": 0.00474,
     "end_time": "2024-12-14T12:34:58.122988",
     "exception": false,
     "start_time": "2024-12-14T12:34:58.118248",
     "status": "completed"
    },
    "tags": []
   },
   "source": [
    "# Import data and clean data"
   ]
  },
  {
   "cell_type": "code",
   "execution_count": 2,
   "id": "756422f1",
   "metadata": {
    "execution": {
     "iopub.execute_input": "2024-12-14T12:34:58.136581Z",
     "iopub.status.busy": "2024-12-14T12:34:58.134675Z",
     "iopub.status.idle": "2024-12-14T12:34:58.142153Z",
     "shell.execute_reply": "2024-12-14T12:34:58.140853Z"
    },
    "papermill": {
     "duration": 0.017148,
     "end_time": "2024-12-14T12:34:58.145114",
     "exception": false,
     "start_time": "2024-12-14T12:34:58.127966",
     "status": "completed"
    },
    "tags": []
   },
   "outputs": [],
   "source": [
    "dataset_path = \"/home/dekiru/Desktop/email-spam-detector-system/data/spam_ham_dataset.csv\""
   ]
  },
  {
   "cell_type": "code",
   "execution_count": 3,
   "id": "31984e33",
   "metadata": {
    "execution": {
     "iopub.execute_input": "2024-12-14T12:34:58.159610Z",
     "iopub.status.busy": "2024-12-14T12:34:58.159107Z",
     "iopub.status.idle": "2024-12-14T12:34:58.426343Z",
     "shell.execute_reply": "2024-12-14T12:34:58.425118Z"
    },
    "papermill": {
     "duration": 0.27659,
     "end_time": "2024-12-14T12:34:58.428917",
     "exception": false,
     "start_time": "2024-12-14T12:34:58.152327",
     "status": "completed"
    },
    "tags": []
   },
   "outputs": [
    {
     "data": {
      "text/html": [
       "<div>\n",
       "<style scoped>\n",
       "    .dataframe tbody tr th:only-of-type {\n",
       "        vertical-align: middle;\n",
       "    }\n",
       "\n",
       "    .dataframe tbody tr th {\n",
       "        vertical-align: top;\n",
       "    }\n",
       "\n",
       "    .dataframe thead th {\n",
       "        text-align: right;\n",
       "    }\n",
       "</style>\n",
       "<table border=\"1\" class=\"dataframe\">\n",
       "  <thead>\n",
       "    <tr style=\"text-align: right;\">\n",
       "      <th></th>\n",
       "      <th>Unnamed: 0</th>\n",
       "      <th>label</th>\n",
       "      <th>text</th>\n",
       "      <th>label_num</th>\n",
       "    </tr>\n",
       "  </thead>\n",
       "  <tbody>\n",
       "    <tr>\n",
       "      <th>0</th>\n",
       "      <td>605</td>\n",
       "      <td>ham</td>\n",
       "      <td>Subject: enron methanol ; meter # : 988291\\r\\n...</td>\n",
       "      <td>0</td>\n",
       "    </tr>\n",
       "    <tr>\n",
       "      <th>1</th>\n",
       "      <td>2349</td>\n",
       "      <td>ham</td>\n",
       "      <td>Subject: hpl nom for january 9 , 2001\\r\\n( see...</td>\n",
       "      <td>0</td>\n",
       "    </tr>\n",
       "    <tr>\n",
       "      <th>2</th>\n",
       "      <td>3624</td>\n",
       "      <td>ham</td>\n",
       "      <td>Subject: neon retreat\\r\\nho ho ho , we ' re ar...</td>\n",
       "      <td>0</td>\n",
       "    </tr>\n",
       "    <tr>\n",
       "      <th>3</th>\n",
       "      <td>4685</td>\n",
       "      <td>spam</td>\n",
       "      <td>Subject: photoshop , windows , office . cheap ...</td>\n",
       "      <td>1</td>\n",
       "    </tr>\n",
       "    <tr>\n",
       "      <th>4</th>\n",
       "      <td>2030</td>\n",
       "      <td>ham</td>\n",
       "      <td>Subject: re : indian springs\\r\\nthis deal is t...</td>\n",
       "      <td>0</td>\n",
       "    </tr>\n",
       "  </tbody>\n",
       "</table>\n",
       "</div>"
      ],
      "text/plain": [
       "   Unnamed: 0 label                                               text  \\\n",
       "0         605   ham  Subject: enron methanol ; meter # : 988291\\r\\n...   \n",
       "1        2349   ham  Subject: hpl nom for january 9 , 2001\\r\\n( see...   \n",
       "2        3624   ham  Subject: neon retreat\\r\\nho ho ho , we ' re ar...   \n",
       "3        4685  spam  Subject: photoshop , windows , office . cheap ...   \n",
       "4        2030   ham  Subject: re : indian springs\\r\\nthis deal is t...   \n",
       "\n",
       "   label_num  \n",
       "0          0  \n",
       "1          0  \n",
       "2          0  \n",
       "3          1  \n",
       "4          0  "
      ]
     },
     "execution_count": 3,
     "metadata": {},
     "output_type": "execute_result"
    }
   ],
   "source": [
    "df = pd.read_csv(dataset_path)\n",
    "df.head(5)"
   ]
  },
  {
   "cell_type": "code",
   "execution_count": 4,
   "id": "ab98d2fb",
   "metadata": {
    "execution": {
     "iopub.execute_input": "2024-12-14T12:34:58.440589Z",
     "iopub.status.busy": "2024-12-14T12:34:58.440222Z",
     "iopub.status.idle": "2024-12-14T12:34:58.493412Z",
     "shell.execute_reply": "2024-12-14T12:34:58.492311Z"
    },
    "papermill": {
     "duration": 0.061626,
     "end_time": "2024-12-14T12:34:58.495617",
     "exception": false,
     "start_time": "2024-12-14T12:34:58.433991",
     "status": "completed"
    },
    "tags": []
   },
   "outputs": [
    {
     "data": {
      "text/html": [
       "<div>\n",
       "<style scoped>\n",
       "    .dataframe tbody tr th:only-of-type {\n",
       "        vertical-align: middle;\n",
       "    }\n",
       "\n",
       "    .dataframe tbody tr th {\n",
       "        vertical-align: top;\n",
       "    }\n",
       "\n",
       "    .dataframe thead th {\n",
       "        text-align: right;\n",
       "    }\n",
       "</style>\n",
       "<table border=\"1\" class=\"dataframe\">\n",
       "  <thead>\n",
       "    <tr style=\"text-align: right;\">\n",
       "      <th></th>\n",
       "      <th>Unnamed: 0</th>\n",
       "      <th>label</th>\n",
       "      <th>text</th>\n",
       "      <th>label_num</th>\n",
       "    </tr>\n",
       "  </thead>\n",
       "  <tbody>\n",
       "    <tr>\n",
       "      <th>0</th>\n",
       "      <td>605</td>\n",
       "      <td>ham</td>\n",
       "      <td>Subject: enron methanol ; meter # : 988291 thi...</td>\n",
       "      <td>0</td>\n",
       "    </tr>\n",
       "    <tr>\n",
       "      <th>1</th>\n",
       "      <td>2349</td>\n",
       "      <td>ham</td>\n",
       "      <td>Subject: hpl nom for january 9 , 2001 ( see at...</td>\n",
       "      <td>0</td>\n",
       "    </tr>\n",
       "    <tr>\n",
       "      <th>2</th>\n",
       "      <td>3624</td>\n",
       "      <td>ham</td>\n",
       "      <td>Subject: neon retreat ho ho ho , we ' re aroun...</td>\n",
       "      <td>0</td>\n",
       "    </tr>\n",
       "    <tr>\n",
       "      <th>3</th>\n",
       "      <td>4685</td>\n",
       "      <td>spam</td>\n",
       "      <td>Subject: photoshop , windows , office . cheap ...</td>\n",
       "      <td>1</td>\n",
       "    </tr>\n",
       "    <tr>\n",
       "      <th>4</th>\n",
       "      <td>2030</td>\n",
       "      <td>ham</td>\n",
       "      <td>Subject: re : indian springs this deal is to b...</td>\n",
       "      <td>0</td>\n",
       "    </tr>\n",
       "  </tbody>\n",
       "</table>\n",
       "</div>"
      ],
      "text/plain": [
       "   Unnamed: 0 label                                               text  \\\n",
       "0         605   ham  Subject: enron methanol ; meter # : 988291 thi...   \n",
       "1        2349   ham  Subject: hpl nom for january 9 , 2001 ( see at...   \n",
       "2        3624   ham  Subject: neon retreat ho ho ho , we ' re aroun...   \n",
       "3        4685  spam  Subject: photoshop , windows , office . cheap ...   \n",
       "4        2030   ham  Subject: re : indian springs this deal is to b...   \n",
       "\n",
       "   label_num  \n",
       "0          0  \n",
       "1          0  \n",
       "2          0  \n",
       "3          1  \n",
       "4          0  "
      ]
     },
     "execution_count": 4,
     "metadata": {},
     "output_type": "execute_result"
    }
   ],
   "source": [
    "df.replace({r'\\r\\n':' '}, regex=True, inplace=True)\n",
    "df.head()"
   ]
  },
  {
   "cell_type": "code",
   "execution_count": 5,
   "id": "7788e343",
   "metadata": {
    "execution": {
     "iopub.execute_input": "2024-12-14T12:34:58.507816Z",
     "iopub.status.busy": "2024-12-14T12:34:58.507427Z",
     "iopub.status.idle": "2024-12-14T12:34:58.533821Z",
     "shell.execute_reply": "2024-12-14T12:34:58.532542Z"
    },
    "papermill": {
     "duration": 0.034985,
     "end_time": "2024-12-14T12:34:58.536137",
     "exception": false,
     "start_time": "2024-12-14T12:34:58.501152",
     "status": "completed"
    },
    "tags": []
   },
   "outputs": [
    {
     "name": "stdout",
     "output_type": "stream",
     "text": [
      "<class 'pandas.core.frame.DataFrame'>\n",
      "RangeIndex: 5171 entries, 0 to 5170\n",
      "Data columns (total 4 columns):\n",
      " #   Column      Non-Null Count  Dtype \n",
      "---  ------      --------------  ----- \n",
      " 0   Unnamed: 0  5171 non-null   int64 \n",
      " 1   label       5171 non-null   object\n",
      " 2   text        5171 non-null   object\n",
      " 3   label_num   5171 non-null   int64 \n",
      "dtypes: int64(2), object(2)\n",
      "memory usage: 161.7+ KB\n"
     ]
    }
   ],
   "source": [
    "df.info()"
   ]
  },
  {
   "cell_type": "code",
   "execution_count": 6,
   "id": "8d6c08d0",
   "metadata": {
    "execution": {
     "iopub.execute_input": "2024-12-14T12:34:58.548139Z",
     "iopub.status.busy": "2024-12-14T12:34:58.547705Z",
     "iopub.status.idle": "2024-12-14T12:34:58.558091Z",
     "shell.execute_reply": "2024-12-14T12:34:58.556913Z"
    },
    "papermill": {
     "duration": 0.019042,
     "end_time": "2024-12-14T12:34:58.560373",
     "exception": false,
     "start_time": "2024-12-14T12:34:58.541331",
     "status": "completed"
    },
    "tags": []
   },
   "outputs": [
    {
     "data": {
      "text/plain": [
       "Unnamed: 0    0\n",
       "label         0\n",
       "text          0\n",
       "label_num     0\n",
       "dtype: int64"
      ]
     },
     "execution_count": 6,
     "metadata": {},
     "output_type": "execute_result"
    }
   ],
   "source": [
    "df.isna().sum()"
   ]
  },
  {
   "cell_type": "code",
   "execution_count": 7,
   "id": "b9e8a6dc",
   "metadata": {
    "execution": {
     "iopub.execute_input": "2024-12-14T12:34:58.572666Z",
     "iopub.status.busy": "2024-12-14T12:34:58.572292Z",
     "iopub.status.idle": "2024-12-14T12:34:58.597953Z",
     "shell.execute_reply": "2024-12-14T12:34:58.596578Z"
    },
    "papermill": {
     "duration": 0.034895,
     "end_time": "2024-12-14T12:34:58.600564",
     "exception": false,
     "start_time": "2024-12-14T12:34:58.565669",
     "status": "completed"
    },
    "tags": []
   },
   "outputs": [
    {
     "data": {
      "text/plain": [
       "0       False\n",
       "3474    False\n",
       "3452    False\n",
       "3451    False\n",
       "3450    False\n",
       "        ...  \n",
       "1722    False\n",
       "1721    False\n",
       "1720    False\n",
       "1719    False\n",
       "5170    False\n",
       "Length: 5171, dtype: bool"
      ]
     },
     "execution_count": 7,
     "metadata": {},
     "output_type": "execute_result"
    }
   ],
   "source": [
    "df.duplicated().sort_values(ascending=False)"
   ]
  },
  {
   "cell_type": "code",
   "execution_count": 8,
   "id": "7d28713c",
   "metadata": {
    "execution": {
     "iopub.execute_input": "2024-12-14T12:34:58.623688Z",
     "iopub.status.busy": "2024-12-14T12:34:58.623292Z",
     "iopub.status.idle": "2024-12-14T12:35:09.378132Z",
     "shell.execute_reply": "2024-12-14T12:35:09.376676Z"
    },
    "papermill": {
     "duration": 10.764639,
     "end_time": "2024-12-14T12:35:09.381173",
     "exception": false,
     "start_time": "2024-12-14T12:34:58.616534",
     "status": "completed"
    },
    "tags": []
   },
   "outputs": [],
   "source": [
    "# Tokenize\n",
    "ps = PorterStemmer()\n",
    "corpus = []\n",
    "\n",
    "all_stop_words = set(stopwords.words('english'))\n",
    "all_stop_words.remove('not')\n",
    "\n",
    "for i in range(len(df)):\n",
    "    text = df['text'][i].lower().translate(str.maketrans('','', string.punctuation)).split()\n",
    "    text = [ps.stem(word) for word in text if word not in all_stop_words]\n",
    "    text = ' '.join(text)\n",
    "    corpus.append(text)"
   ]
  },
  {
   "cell_type": "code",
   "execution_count": 16,
   "id": "48f7963f",
   "metadata": {},
   "outputs": [
    {
     "name": "stdout",
     "output_type": "stream",
     "text": [
      "subject enron methanol meter 988291 follow note gave monday 4 3 00 preliminari flow data provid daren pleas overrid pop daili volum present zero reflect daili activ obtain ga control chang need asap econom purpos\n"
     ]
    }
   ],
   "source": [
    "print(corpus[0])"
   ]
  },
  {
   "cell_type": "code",
   "execution_count": 13,
   "id": "7bf21395",
   "metadata": {},
   "outputs": [],
   "source": [
    "corpus = np.asarray(corpus)\n",
    "output_path = '/home/dekiru/Desktop/email-spam-detector-system/data/postprocessing/spam.txt'\n",
    "np.savetxt(output_path, corpus, fmt='%s')  # fmt='%s' dùng để lưu dưới dạng chuỗi\n"
   ]
  },
  {
   "cell_type": "code",
   "execution_count": null,
   "id": "a997dacf",
   "metadata": {
    "execution": {
     "iopub.execute_input": "2024-12-14T12:35:09.396415Z",
     "iopub.status.busy": "2024-12-14T12:35:09.395794Z",
     "iopub.status.idle": "2024-12-14T12:35:09.407511Z",
     "shell.execute_reply": "2024-12-14T12:35:09.406369Z"
    },
    "papermill": {
     "duration": 0.021885,
     "end_time": "2024-12-14T12:35:09.409738",
     "exception": false,
     "start_time": "2024-12-14T12:35:09.387853",
     "status": "completed"
    },
    "tags": []
   },
   "outputs": [],
   "source": [
    "mostCommon = Counter(corpus).most_common(20)\n",
    "# mostCommon"
   ]
  },
  {
   "cell_type": "markdown",
   "id": "b3998cda",
   "metadata": {
    "papermill": {
     "duration": 0.005024,
     "end_time": "2024-12-14T12:35:09.420297",
     "exception": false,
     "start_time": "2024-12-14T12:35:09.415273",
     "status": "completed"
    },
    "tags": []
   },
   "source": [
    "# Creating BOW model"
   ]
  },
  {
   "cell_type": "code",
   "execution_count": 12,
   "id": "2e3fa322",
   "metadata": {
    "execution": {
     "iopub.execute_input": "2024-12-14T12:35:09.432623Z",
     "iopub.status.busy": "2024-12-14T12:35:09.432205Z",
     "iopub.status.idle": "2024-12-14T12:35:10.890249Z",
     "shell.execute_reply": "2024-12-14T12:35:10.887697Z"
    },
    "papermill": {
     "duration": 1.467346,
     "end_time": "2024-12-14T12:35:10.892927",
     "exception": false,
     "start_time": "2024-12-14T12:35:09.425581",
     "status": "completed"
    },
    "tags": []
   },
   "outputs": [],
   "source": [
    "cv = CountVectorizer(max_features= 42500)\n",
    "X = cv.fit_transform(corpus).toarray()\n",
    "y = df['label_num']"
   ]
  },
  {
   "cell_type": "code",
   "execution_count": 13,
   "id": "33b0e51d",
   "metadata": {
    "execution": {
     "iopub.execute_input": "2024-12-14T12:35:10.906934Z",
     "iopub.status.busy": "2024-12-14T12:35:10.906375Z",
     "iopub.status.idle": "2024-12-14T12:35:12.160133Z",
     "shell.execute_reply": "2024-12-14T12:35:12.158902Z"
    },
    "papermill": {
     "duration": 1.2637,
     "end_time": "2024-12-14T12:35:12.162934",
     "exception": false,
     "start_time": "2024-12-14T12:35:10.899234",
     "status": "completed"
    },
    "tags": []
   },
   "outputs": [],
   "source": [
    "X_train, X_test, y_train, y_test = train_test_split(X, y, test_size=0.2, random_state=42)"
   ]
  },
  {
   "cell_type": "code",
   "execution_count": 14,
   "id": "f30a04e9",
   "metadata": {
    "execution": {
     "iopub.execute_input": "2024-12-14T12:35:38.090014Z",
     "iopub.status.busy": "2024-12-14T12:35:38.088645Z",
     "iopub.status.idle": "2024-12-14T12:35:38.095462Z",
     "shell.execute_reply": "2024-12-14T12:35:38.094414Z"
    },
    "papermill": {
     "duration": 0.016097,
     "end_time": "2024-12-14T12:35:38.097849",
     "exception": false,
     "start_time": "2024-12-14T12:35:38.081752",
     "status": "completed"
    },
    "tags": []
   },
   "outputs": [],
   "source": [
    "models = {\n",
    "    \"Logistic Regression\": LogisticRegression(),\n",
    "    \"Random Forest\": RandomForestClassifier(n_estimators=100, random_state=42),\n",
    "    \"SVM\": SVC(kernel='linear', probability=True, random_state=42),\n",
    "    \"KNN\": KNeighborsClassifier(n_neighbors=3),\n",
    "    \"Naive Bayes\": MultinomialNB(),\n",
    "    \"XGBoost\": XGBClassifier(use_label_encoder=False, eval_metric='logloss', random_state=42)\n",
    "}"
   ]
  },
  {
   "cell_type": "code",
   "execution_count": 15,
   "id": "344b76ee",
   "metadata": {},
   "outputs": [],
   "source": [
    "weights_dir = \"/home/dekiru/Desktop/email_spam_detector_system/weights\""
   ]
  },
  {
   "cell_type": "code",
   "execution_count": 16,
   "id": "4c592c98",
   "metadata": {
    "execution": {
     "iopub.execute_input": "2024-12-14T12:35:38.111448Z",
     "iopub.status.busy": "2024-12-14T12:35:38.110604Z",
     "iopub.status.idle": "2024-12-14T12:41:46.637678Z",
     "shell.execute_reply": "2024-12-14T12:41:46.636754Z"
    },
    "papermill": {
     "duration": 368.543232,
     "end_time": "2024-12-14T12:41:46.646825",
     "exception": false,
     "start_time": "2024-12-14T12:35:38.103593",
     "status": "completed"
    },
    "tags": []
   },
   "outputs": [
    {
     "name": "stdout",
     "output_type": "stream",
     "text": [
      "Model: Logistic Regression\n",
      "Accuracy: 0.98\n",
      "Classification Report:\n",
      "              precision    recall  f1-score   support\n",
      "\n",
      "           0       0.99      0.98      0.99       742\n",
      "           1       0.96      0.97      0.96       293\n",
      "\n",
      "    accuracy                           0.98      1035\n",
      "   macro avg       0.97      0.98      0.98      1035\n",
      "weighted avg       0.98      0.98      0.98      1035\n",
      "\n",
      "--------------------------------------------------\n",
      "Model Logistic Regression đã được lưu vào file /home/dekiru/Desktop/email_spam_detector_system/weights/logistic_regression_model.pkl\n",
      "Model: Random Forest\n",
      "Accuracy: 0.97\n",
      "Classification Report:\n",
      "              precision    recall  f1-score   support\n",
      "\n",
      "           0       0.98      0.98      0.98       742\n",
      "           1       0.96      0.95      0.96       293\n",
      "\n",
      "    accuracy                           0.97      1035\n",
      "   macro avg       0.97      0.97      0.97      1035\n",
      "weighted avg       0.97      0.97      0.97      1035\n",
      "\n",
      "--------------------------------------------------\n",
      "Model Random Forest đã được lưu vào file /home/dekiru/Desktop/email_spam_detector_system/weights/random_forest_model.pkl\n",
      "Model: SVM\n",
      "Accuracy: 0.97\n",
      "Classification Report:\n",
      "              precision    recall  f1-score   support\n",
      "\n",
      "           0       0.98      0.97      0.98       742\n",
      "           1       0.94      0.94      0.94       293\n",
      "\n",
      "    accuracy                           0.97      1035\n",
      "   macro avg       0.96      0.96      0.96      1035\n",
      "weighted avg       0.97      0.97      0.97      1035\n",
      "\n",
      "--------------------------------------------------\n",
      "Model SVM đã được lưu vào file /home/dekiru/Desktop/email_spam_detector_system/weights/svm_model.pkl\n",
      "Model: KNN\n",
      "Accuracy: 0.85\n",
      "Classification Report:\n",
      "              precision    recall  f1-score   support\n",
      "\n",
      "           0       0.99      0.81      0.89       742\n",
      "           1       0.66      0.97      0.79       293\n",
      "\n",
      "    accuracy                           0.85      1035\n",
      "   macro avg       0.82      0.89      0.84      1035\n",
      "weighted avg       0.89      0.85      0.86      1035\n",
      "\n",
      "--------------------------------------------------\n",
      "Model KNN đã được lưu vào file /home/dekiru/Desktop/email_spam_detector_system/weights/knn_model.pkl\n",
      "Model: Naive Bayes\n",
      "Accuracy: 0.97\n",
      "Classification Report:\n",
      "              precision    recall  f1-score   support\n",
      "\n",
      "           0       0.99      0.98      0.98       742\n",
      "           1       0.95      0.97      0.96       293\n",
      "\n",
      "    accuracy                           0.97      1035\n",
      "   macro avg       0.97      0.97      0.97      1035\n",
      "weighted avg       0.98      0.97      0.97      1035\n",
      "\n",
      "--------------------------------------------------\n",
      "Model Naive Bayes đã được lưu vào file /home/dekiru/Desktop/email_spam_detector_system/weights/naive_bayes_model.pkl\n"
     ]
    },
    {
     "name": "stderr",
     "output_type": "stream",
     "text": [
      "/home/dekiru/Desktop/env/lib/python3.10/site-packages/xgboost/core.py:158: UserWarning: [15:15:47] WARNING: /workspace/src/learner.cc:740: \n",
      "Parameters: { \"use_label_encoder\" } are not used.\n",
      "\n",
      "  warnings.warn(smsg, UserWarning)\n"
     ]
    },
    {
     "name": "stdout",
     "output_type": "stream",
     "text": [
      "Model: XGBoost\n",
      "Accuracy: 0.98\n",
      "Classification Report:\n",
      "              precision    recall  f1-score   support\n",
      "\n",
      "           0       0.99      0.98      0.98       742\n",
      "           1       0.95      0.98      0.96       293\n",
      "\n",
      "    accuracy                           0.98      1035\n",
      "   macro avg       0.97      0.98      0.97      1035\n",
      "weighted avg       0.98      0.98      0.98      1035\n",
      "\n",
      "--------------------------------------------------\n",
      "Model XGBoost đã được lưu vào file /home/dekiru/Desktop/email_spam_detector_system/weights/xgboost_model.pkl\n",
      "Best Model: Logistic Regression with Accuracy: 0.98\n"
     ]
    }
   ],
   "source": [
    "results = {}\n",
    "for name, model in models.items():\n",
    "    # Huấn luyện mô hình\n",
    "    model.fit(X_train, y_train)\n",
    "    \n",
    "    # Dự đoán\n",
    "    y_pred = model.predict(X_test)\n",
    "    \n",
    "    # Đánh giá\n",
    "    acc = accuracy_score(y_test, y_pred)\n",
    "    print(f\"Model: {name}\")\n",
    "    print(f\"Accuracy: {acc:.2f}\")\n",
    "    print(\"Classification Report:\")\n",
    "    print(classification_report(y_test, y_pred))\n",
    "    print(\"-\" * 50)\n",
    "    \n",
    "    # Lưu kết quả\n",
    "    results[name] = acc\n",
    "    \n",
    "    # Lưu weights của mô hình vào thư mục \"weights\"\n",
    "    model_file = os.path.join(weights_dir, f\"{name.replace(' ', '_').lower()}_model.pkl\")\n",
    "    with open(model_file, \"wb\") as f:\n",
    "        pickle.dump(model, f)\n",
    "    print(f\"Model {name} đã được lưu vào file {model_file}\")\n",
    "\n",
    "# Hiển thị mô hình tốt nhất\n",
    "best_model = max(results, key=results.get)\n",
    "print(f\"Best Model: {best_model} with Accuracy: {results[best_model]:.2f}\")"
   ]
  }
 ],
 "metadata": {
  "kaggle": {
   "accelerator": "none",
   "dataSources": [
    {
     "datasetId": 109196,
     "sourceId": 260807,
     "sourceType": "datasetVersion"
    }
   ],
   "dockerImageVersionId": 30804,
   "isGpuEnabled": false,
   "isInternetEnabled": true,
   "language": "python",
   "sourceType": "notebook"
  },
  "kernelspec": {
   "display_name": "env",
   "language": "python",
   "name": "python3"
  },
  "language_info": {
   "codemirror_mode": {
    "name": "ipython",
    "version": 3
   },
   "file_extension": ".py",
   "mimetype": "text/x-python",
   "name": "python",
   "nbconvert_exporter": "python",
   "pygments_lexer": "ipython3",
   "version": "3.10.12"
  },
  "papermill": {
   "default_parameters": {},
   "duration": 417.095133,
   "end_time": "2024-12-14T12:41:47.893553",
   "environment_variables": {},
   "exception": null,
   "input_path": "__notebook__.ipynb",
   "output_path": "__notebook__.ipynb",
   "parameters": {},
   "start_time": "2024-12-14T12:34:50.798420",
   "version": "2.6.0"
  }
 },
 "nbformat": 4,
 "nbformat_minor": 5
}
